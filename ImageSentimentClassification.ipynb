{
 "cells": [
  {
   "cell_type": "code",
   "execution_count": 1,
   "id": "38b1b627-0800-4ab3-a06a-567654a70c77",
   "metadata": {
    "tags": []
   },
   "outputs": [],
   "source": [
    "import numpy as np \n",
    "import pandas as pd \n",
    "import csv\n",
    "import torch\n",
    "import torch.nn as nn\n",
    "from torch.utils.data import TensorDataset, DataLoader\n",
    "import time\n",
    "from sklearn.metrics import confusion_matrix\n",
    "import matplotlib.pyplot as plt"
   ]
  },
  {
   "cell_type": "code",
   "execution_count": 2,
   "id": "a89e4b2d-41e3-4066-8b7e-8a9eef467ec6",
   "metadata": {
    "tags": []
   },
   "outputs": [],
   "source": [
    "device = torch.device(\"mps\")"
   ]
  },
  {
   "cell_type": "code",
   "execution_count": 3,
   "id": "ead95f24-c13a-4265-aae0-f3bdb95c4046",
   "metadata": {
    "tags": []
   },
   "outputs": [
    {
     "name": "stdout",
     "output_type": "stream",
     "text": [
      "torch.Size([51676, 1, 48, 48]) torch.Size([2871, 1, 48, 48])\n"
     ]
    }
   ],
   "source": [
    "# Geting training/validating dataset\n",
    "x_train = []\n",
    "x_label = []\n",
    "val_train = []\n",
    "val_label = []\n",
    "raw_train = np.genfromtxt('train.csv', delimiter=',', dtype=str, skip_header=1)\n",
    "for i in range(len(raw_train)):\n",
    "    image = np.array(raw_train[i, 1].split(' ')).reshape(1, 48, 48)\n",
    "    if (i % 10 == 0):\n",
    "        val_train.append(image)\n",
    "        val_label.append(raw_train[i][0])\n",
    "    else:\n",
    "        x_train.append(image)\n",
    "        x_train.append(np.flip(image, axis=2))    # simple example of data augmentation\n",
    "        x_label.append(raw_train[i][0])\n",
    "        x_label.append(raw_train[i][0])\n",
    "x_train = np.array(x_train, dtype=float) / 255.0\n",
    "val_train = np.array(val_train, dtype=float) / 255.0\n",
    "x_label = np.array(x_label, dtype=int)\n",
    "val_label = np.array(val_label, dtype=int)\n",
    "\n",
    "x_train = torch.FloatTensor(x_train)\n",
    "val_train = torch.FloatTensor(val_train)\n",
    "x_label = torch.LongTensor(x_label)\n",
    "val_label = torch.LongTensor(val_label)\n",
    "print(x_train.size(), val_train.size())"
   ]
  },
  {
   "cell_type": "code",
   "execution_count": 4,
   "id": "5452c309-df2e-44d0-bca8-03db591072f0",
   "metadata": {
    "tags": []
   },
   "outputs": [],
   "source": [
    "# Wrapped as dataloaders\n",
    "train_set = TensorDataset(x_train, x_label)\n",
    "val_set = TensorDataset(val_train, val_label)\n",
    "batch_size = 256\n",
    "train_loader = DataLoader(train_set, batch_size=batch_size, shuffle=True, num_workers=8)\n",
    "val_loader = DataLoader(val_set, batch_size=batch_size, shuffle=False, num_workers=8)"
   ]
  },
  {
   "cell_type": "code",
   "execution_count": 5,
   "id": "1a590b83-eeb6-4f7c-a1e1-f15384b09525",
   "metadata": {
    "tags": []
   },
   "outputs": [],
   "source": [
    "def gaussian_weights_init(m):\n",
    "    classname = m.__class__.__name__\n",
    "    if classname.find('Conv') != -1 and classname.find('Conv') == 0:\n",
    "        m.weight.data.normal_(0.0, 0.02)"
   ]
  },
  {
   "cell_type": "code",
   "execution_count": 6,
   "id": "f933d7c0-b0be-4df9-b165-dc7d0dd2d2a3",
   "metadata": {
    "tags": []
   },
   "outputs": [],
   "source": [
    "class Classifier(nn.Module):\n",
    "    def __init__(self):\n",
    "        super(Classifier, self).__init__()\n",
    "        self.cnn = nn.Sequential(\n",
    "            nn.Conv2d(1, 64, 4, 2, 1),  # [64, 24, 24]\n",
    "            nn.BatchNorm2d(64),\n",
    "            nn.LeakyReLU(0.2),\n",
    "            nn.Conv2d(64, 64, 3, 1, 1),\n",
    "            nn.BatchNorm2d(64),\n",
    "            nn.LeakyReLU(0.2),\n",
    "            nn.MaxPool2d(2, 2, 0),      # [64, 12, 12]\n",
    "\n",
    "            nn.Conv2d(64, 128, 3, 1, 1),\n",
    "            nn.BatchNorm2d(128),\n",
    "            nn.LeakyReLU(0.2),\n",
    "            nn.Conv2d(128, 128, 3, 1, 1),\n",
    "            nn.BatchNorm2d(128),\n",
    "            nn.LeakyReLU(0.2),\n",
    "            nn.MaxPool2d(2, 2, 0),      # [128, 6, 6]\n",
    "\n",
    "            nn.Conv2d(128, 256, 3, 1, 1),\n",
    "            nn.BatchNorm2d(256),\n",
    "            nn.LeakyReLU(0.2),\n",
    "            nn.Conv2d(256, 256, 3, 1, 1),\n",
    "            nn.BatchNorm2d(256),\n",
    "            nn.LeakyReLU(0.2),\n",
    "            nn.MaxPool2d(2, 2, 0)       # [256, 3, 3]\n",
    "        )\n",
    "\n",
    "        self.fc = nn.Sequential(\n",
    "            nn.Linear(256*3*3, 1024),\n",
    "            nn.LeakyReLU(0.2),\n",
    "            nn.Dropout(p=0.5),\n",
    "            nn.Linear(1024, 512),\n",
    "            nn.LeakyReLU(0.2),\n",
    "            nn.Dropout(p=0.5),\n",
    "            nn.Linear(512, 7)\n",
    "        )\n",
    "\n",
    "        self.cnn.apply(gaussian_weights_init)\n",
    "        self.fc.apply(gaussian_weights_init)\n",
    "\n",
    "    def forward(self, x):\n",
    "        out = self.cnn(x)\n",
    "        out = out.view(out.size()[0], -1)\n",
    "        return self.fc(out)\n"
   ]
  },
  {
   "cell_type": "code",
   "execution_count": 7,
   "id": "effba37e-3dac-47a2-a100-9de36c8d6e6d",
   "metadata": {
    "tags": []
   },
   "outputs": [
    {
     "name": "stdout",
     "output_type": "stream",
     "text": [
      "Classifier(\n",
      "  (cnn): Sequential(\n",
      "    (0): Conv2d(1, 64, kernel_size=(4, 4), stride=(2, 2), padding=(1, 1))\n",
      "    (1): BatchNorm2d(64, eps=1e-05, momentum=0.1, affine=True, track_running_stats=True)\n",
      "    (2): LeakyReLU(negative_slope=0.2)\n",
      "    (3): Conv2d(64, 64, kernel_size=(3, 3), stride=(1, 1), padding=(1, 1))\n",
      "    (4): BatchNorm2d(64, eps=1e-05, momentum=0.1, affine=True, track_running_stats=True)\n",
      "    (5): LeakyReLU(negative_slope=0.2)\n",
      "    (6): MaxPool2d(kernel_size=2, stride=2, padding=0, dilation=1, ceil_mode=False)\n",
      "    (7): Conv2d(64, 128, kernel_size=(3, 3), stride=(1, 1), padding=(1, 1))\n",
      "    (8): BatchNorm2d(128, eps=1e-05, momentum=0.1, affine=True, track_running_stats=True)\n",
      "    (9): LeakyReLU(negative_slope=0.2)\n",
      "    (10): Conv2d(128, 128, kernel_size=(3, 3), stride=(1, 1), padding=(1, 1))\n",
      "    (11): BatchNorm2d(128, eps=1e-05, momentum=0.1, affine=True, track_running_stats=True)\n",
      "    (12): LeakyReLU(negative_slope=0.2)\n",
      "    (13): MaxPool2d(kernel_size=2, stride=2, padding=0, dilation=1, ceil_mode=False)\n",
      "    (14): Conv2d(128, 256, kernel_size=(3, 3), stride=(1, 1), padding=(1, 1))\n",
      "    (15): BatchNorm2d(256, eps=1e-05, momentum=0.1, affine=True, track_running_stats=True)\n",
      "    (16): LeakyReLU(negative_slope=0.2)\n",
      "    (17): Conv2d(256, 256, kernel_size=(3, 3), stride=(1, 1), padding=(1, 1))\n",
      "    (18): BatchNorm2d(256, eps=1e-05, momentum=0.1, affine=True, track_running_stats=True)\n",
      "    (19): LeakyReLU(negative_slope=0.2)\n",
      "    (20): MaxPool2d(kernel_size=2, stride=2, padding=0, dilation=1, ceil_mode=False)\n",
      "  )\n",
      "  (fc): Sequential(\n",
      "    (0): Linear(in_features=2304, out_features=1024, bias=True)\n",
      "    (1): LeakyReLU(negative_slope=0.2)\n",
      "    (2): Dropout(p=0.5, inplace=False)\n",
      "    (3): Linear(in_features=1024, out_features=512, bias=True)\n",
      "    (4): LeakyReLU(negative_slope=0.2)\n",
      "    (5): Dropout(p=0.5, inplace=False)\n",
      "    (6): Linear(in_features=512, out_features=7, bias=True)\n",
      "  )\n",
      ")\n"
     ]
    }
   ],
   "source": [
    "model = Classifier().to(device)\n",
    "print(model)"
   ]
  },
  {
   "cell_type": "code",
   "execution_count": 8,
   "id": "4147e6b7-6b50-4e2a-b733-b2f3411488cd",
   "metadata": {
    "tags": []
   },
   "outputs": [],
   "source": [
    "# Set hyperparameters\n",
    "loss = nn.CrossEntropyLoss()\n",
    "optimizer = torch.optim.Adam(model.parameters(), lr=0.01)\n",
    "best_acc = 0.0\n",
    "num_epoch = 20"
   ]
  },
  {
   "cell_type": "code",
   "execution_count": 9,
   "id": "159baa0c-907c-4853-8ba7-4a04eb44da8e",
   "metadata": {},
   "outputs": [
    {
     "name": "stdout",
     "output_type": "stream",
     "text": [
      "[001/020] 28.07 sec(s) Train Acc: 0.212768 Loss: 959.312717 | Val Acc: 0.266458 loss: 21.469408\n",
      "Model Saved!\n",
      "[002/020] 26.29 sec(s) Train Acc: 0.253522 Loss: 369.705116 | Val Acc: 0.277604 loss: 21.427377\n",
      "Model Saved!\n",
      "[003/020] 27.32 sec(s) Train Acc: 0.260566 Loss: 363.872436 | Val Acc: 0.268896 loss: 21.203227\n",
      "[004/020] 27.60 sec(s) Train Acc: 0.267261 Loss: 360.306606 | Val Acc: 0.301985 loss: 20.730779\n",
      "Model Saved!\n",
      "[005/020] 26.99 sec(s) Train Acc: 0.315117 Loss: 345.198192 | Val Acc: 0.363288 loss: 19.207945\n",
      "Model Saved!\n",
      "[006/020] 27.18 sec(s) Train Acc: 0.387046 Loss: 316.587205 | Val Acc: 0.399512 loss: 18.104679\n",
      "Model Saved!\n",
      "[007/020] 27.27 sec(s) Train Acc: 0.439063 Loss: 292.727431 | Val Acc: 0.453501 loss: 16.423494\n",
      "Model Saved!\n",
      "[008/020] 27.50 sec(s) Train Acc: 0.478094 Loss: 273.105697 | Val Acc: 0.490073 loss: 15.378089\n",
      "Model Saved!\n",
      "[009/020] 28.35 sec(s) Train Acc: 0.514204 Loss: 257.981432 | Val Acc: 0.539185 loss: 14.436148\n",
      "Model Saved!\n",
      "[010/020] 27.13 sec(s) Train Acc: 0.542167 Loss: 242.487656 | Val Acc: 0.539533 loss: 14.427052\n",
      "Model Saved!\n",
      "[011/020] 26.95 sec(s) Train Acc: 0.561673 Loss: 232.006556 | Val Acc: 0.564263 loss: 13.436185\n",
      "Model Saved!\n",
      "[012/020] 29.79 sec(s) Train Acc: 0.582959 Loss: 221.947406 | Val Acc: 0.551724 loss: 13.647829\n",
      "[013/020] 32.30 sec(s) Train Acc: 0.600704 Loss: 213.365767 | Val Acc: 0.582724 loss: 13.319159\n",
      "Model Saved!\n",
      "[014/020] 30.17 sec(s) Train Acc: 0.618275 Loss: 203.764865 | Val Acc: 0.583072 loss: 13.506845\n",
      "Model Saved!\n",
      "[015/020] 29.14 sec(s) Train Acc: 0.630718 Loss: 197.250901 | Val Acc: 0.584117 loss: 14.176236\n",
      "Model Saved!\n",
      "[016/020] 29.32 sec(s) Train Acc: 0.646490 Loss: 189.402243 | Val Acc: 0.582027 loss: 14.137273\n",
      "[017/020] 30.60 sec(s) Train Acc: 0.657114 Loss: 184.335230 | Val Acc: 0.578544 loss: 14.082700\n",
      "[018/020] 30.29 sec(s) Train Acc: 0.671356 Loss: 176.673255 | Val Acc: 0.592476 loss: 13.890330\n",
      "Model Saved!\n",
      "[019/020] 31.46 sec(s) Train Acc: 0.683528 Loss: 171.556934 | Val Acc: 0.585859 loss: 13.862802\n",
      "[020/020] 30.19 sec(s) Train Acc: 0.689353 Loss: 168.711496 | Val Acc: 0.569140 loss: 14.808342\n",
      "Finish Training!\n"
     ]
    }
   ],
   "source": [
    "# Training\n",
    "epoches = []\n",
    "train_accs = []\n",
    "val_accs = []\n",
    "\n",
    "\n",
    "for epoch in range(num_epoch):\n",
    "    epoch_start_time = time.time()\n",
    "    train_acc = 0.0\n",
    "    train_loss = 0.0\n",
    "    val_acc = 0.0\n",
    "    val_loss = 0.0\n",
    "    \n",
    "    model.train()\n",
    "    for i, data in enumerate(train_loader):\n",
    "        optimizer.zero_grad()\n",
    "        train_pred = model(data[0].to(device))\n",
    "        batch_loss = loss(train_pred, data[1].to(device))\n",
    "        batch_loss.backward()\n",
    "        optimizer.step()\n",
    "        \n",
    "        train_acc += np.sum(np.argmax(train_pred.cpu().data.numpy(), axis=1) == data[1].numpy())\n",
    "        train_loss += batch_loss.item()\n",
    "        \n",
    "        #Plot the progress\n",
    "        progress = ('#' * int(float(i)/len(train_loader)*40)).ljust(40)\n",
    "        print ('[%03d/%03d] %2.2f sec(s) | %s |' % (epoch+1, num_epoch, \\\n",
    "                (time.time() - epoch_start_time), progress), end='\\r', flush=True)\n",
    "    train_acc = train_acc/train_set.__len__()\n",
    "    \n",
    "    model.eval()\n",
    "    for i, data in enumerate(val_loader):\n",
    "        val_pred = model(data[0].to(device))\n",
    "        batch_loss = loss(val_pred, data[1].to(device))\n",
    "\n",
    "        val_acc += np.sum(np.argmax(val_pred.cpu().data.numpy(), axis=1) == data[1].numpy())\n",
    "        val_loss += batch_loss.item()\n",
    "\n",
    "        progress = ('#' * int(float(i)/len(val_loader)*40)).ljust(40)\n",
    "        print ('[%03d/%03d] %2.2f sec(s) | %s |' % (epoch+1, num_epoch, \\\n",
    "                (time.time() - epoch_start_time), progress), end='\\r', flush=True)\n",
    "        \n",
    "    val_acc = val_acc/val_set.__len__()\n",
    "    print('[%03d/%03d] %2.2f sec(s) Train Acc: %3.6f Loss: %3.6f | Val Acc: %3.6f loss: %3.6f' % \\\n",
    "        (epoch + 1, num_epoch, time.time()-epoch_start_time, \\\n",
    "        train_acc, train_loss, val_acc, val_loss))\n",
    "    \n",
    "    epoches.append(epoch)\n",
    "    train_accs.append(train_acc)\n",
    "    val_accs.append(val_acc)\n",
    "    \n",
    "    \n",
    "    if (val_acc > best_acc):\n",
    "        with open('save/acc.txt','w') as f:\n",
    "            f.write(str(epoch)+'\\t'+str(val_acc)+'\\n')\n",
    "        torch.save(model.state_dict(), 'save/model.pth')\n",
    "        best_acc = val_acc\n",
    "        print ('Model Saved!')\n",
    "\n",
    "print(\"Finish Training!\")    "
   ]
  },
  {
   "cell_type": "code",
   "execution_count": 20,
   "id": "57c83b8a-8763-49a1-b1b0-9a1702eea980",
   "metadata": {
    "tags": []
   },
   "outputs": [
    {
     "data": {
      "image/png": "[encoded data removed]",
      "text/plain": [
       "<Figure size 1000x600 with 1 Axes>"
      ]
     },
     "metadata": {},
     "output_type": "display_data"
    }
   ],
   "source": [
    "plt.figure(figsize=(10,6))\n",
    "plt.plot(epoches, train_accs, 'r', label='Training Acc')\n",
    "plt.plot(epoches, val_accs, 'b', label='Validation Acc')\n",
    "plt.title('Training and Validation Acc')\n",
    "plt.xlabel('Epochs')\n",
    "plt.ylabel('Acc')\n",
    "plt.legend()\n",
    "plt.show()"
   ]
  },
  {
   "cell_type": "code",
   "execution_count": 10,
   "id": "734287dc-23fb-4989-ac01-3d18ef80e35d",
   "metadata": {
    "tags": []
   },
   "outputs": [
    {
     "data": {
      "text/plain": [
       "Classifier(\n",
       "  (cnn): Sequential(\n",
       "    (0): Conv2d(1, 64, kernel_size=(4, 4), stride=(2, 2), padding=(1, 1))\n",
       "    (1): BatchNorm2d(64, eps=1e-05, momentum=0.1, affine=True, track_running_stats=True)\n",
       "    (2): LeakyReLU(negative_slope=0.2)\n",
       "    (3): Conv2d(64, 64, kernel_size=(3, 3), stride=(1, 1), padding=(1, 1))\n",
       "    (4): BatchNorm2d(64, eps=1e-05, momentum=0.1, affine=True, track_running_stats=True)\n",
       "    (5): LeakyReLU(negative_slope=0.2)\n",
       "    (6): MaxPool2d(kernel_size=2, stride=2, padding=0, dilation=1, ceil_mode=False)\n",
       "    (7): Conv2d(64, 128, kernel_size=(3, 3), stride=(1, 1), padding=(1, 1))\n",
       "    (8): BatchNorm2d(128, eps=1e-05, momentum=0.1, affine=True, track_running_stats=True)\n",
       "    (9): LeakyReLU(negative_slope=0.2)\n",
       "    (10): Conv2d(128, 128, kernel_size=(3, 3), stride=(1, 1), padding=(1, 1))\n",
       "    (11): BatchNorm2d(128, eps=1e-05, momentum=0.1, affine=True, track_running_stats=True)\n",
       "    (12): LeakyReLU(negative_slope=0.2)\n",
       "    (13): MaxPool2d(kernel_size=2, stride=2, padding=0, dilation=1, ceil_mode=False)\n",
       "    (14): Conv2d(128, 256, kernel_size=(3, 3), stride=(1, 1), padding=(1, 1))\n",
       "    (15): BatchNorm2d(256, eps=1e-05, momentum=0.1, affine=True, track_running_stats=True)\n",
       "    (16): LeakyReLU(negative_slope=0.2)\n",
       "    (17): Conv2d(256, 256, kernel_size=(3, 3), stride=(1, 1), padding=(1, 1))\n",
       "    (18): BatchNorm2d(256, eps=1e-05, momentum=0.1, affine=True, track_running_stats=True)\n",
       "    (19): LeakyReLU(negative_slope=0.2)\n",
       "    (20): MaxPool2d(kernel_size=2, stride=2, padding=0, dilation=1, ceil_mode=False)\n",
       "  )\n",
       "  (fc): Sequential(\n",
       "    (0): Linear(in_features=2304, out_features=1024, bias=True)\n",
       "    (1): LeakyReLU(negative_slope=0.2)\n",
       "    (2): Dropout(p=0.5, inplace=False)\n",
       "    (3): Linear(in_features=1024, out_features=512, bias=True)\n",
       "    (4): LeakyReLU(negative_slope=0.2)\n",
       "    (5): Dropout(p=0.5, inplace=False)\n",
       "    (6): Linear(in_features=512, out_features=7, bias=True)\n",
       "  )\n",
       ")"
      ]
     },
     "execution_count": 10,
     "metadata": {},
     "output_type": "execute_result"
    }
   ],
   "source": [
    "model = Classifier()\n",
    "model.load_state_dict(torch.load('save/model.pth'))\n",
    "model.to(device)"
   ]
  },
  {
   "cell_type": "code",
   "execution_count": 8,
   "id": "d886e8ee-eada-4bed-8c1e-6010159eb784",
   "metadata": {
    "tags": []
   },
   "outputs": [
    {
     "name": "stdout",
     "output_type": "stream",
     "text": [
      "torch.Size([7178, 1, 48, 48])\n"
     ]
    }
   ],
   "source": [
    "x_test = []\n",
    "raw_test = np.genfromtxt('test.csv', delimiter=',', dtype=str, skip_header=1)\n",
    "for i in range(len(raw_test)):\n",
    "    image = np.array(raw_test[i, 1].split(' ')).reshape(1, 48, 48)\n",
    "    x_test.append(image)\n",
    "x_test = np.array(x_test, dtype=float) / 255.0\n",
    "x_test = torch.FloatTensor(x_test)\n",
    "print(x_test.size())"
   ]
  },
  {
   "cell_type": "code",
   "execution_count": 11,
   "id": "3c09c6d0-dd19-413a-9583-3508a1ce2f7a",
   "metadata": {
    "tags": []
   },
   "outputs": [
    {
     "name": "stdout",
     "output_type": "stream",
     "text": [
      "tensor([3, 4, 3,  ..., 3, 0, 2], device='mps:0')\n"
     ]
    }
   ],
   "source": [
    "with torch.no_grad():\n",
    "    test_pred = model(x_test.to(device))\n",
    "    value, indices = torch.max(test_pred, dim = 1)\n",
    "    print(indices)"
   ]
  },
  {
   "cell_type": "code",
   "execution_count": 12,
   "id": "a77ae75d-df25-4c55-918f-a01dd643b074",
   "metadata": {
    "tags": []
   },
   "outputs": [
    {
     "name": "stdout",
     "output_type": "stream",
     "text": [
      "torch.Size([7178])\n"
     ]
    }
   ],
   "source": [
    "print(indices.size())"
   ]
  },
  {
   "cell_type": "code",
   "execution_count": 29,
   "id": "907a7c6b-b339-4487-b435-014d832b7b0e",
   "metadata": {
    "tags": []
   },
   "outputs": [],
   "source": [
    "indices = indices.cpu().numpy()\n",
    "\n",
    "df = pd.DataFrame({'id': range(len(indices)), 'label': indices})\n",
    "\n",
    "df.to_csv('output.csv', index=False)"
   ]
  },
  {
   "cell_type": "code",
   "execution_count": 10,
   "id": "b1a64a89-5828-4ad8-a938-1dfa824cae24",
   "metadata": {},
   "outputs": [],
   "source": [
    "# Saliency Maps\n",
    "def compute_saliency_maps(x, y, model):\n",
    "    model.eval()\n",
    "    x.requires_grad_()\n",
    "    y_pred = model(x.to(device))\n",
    "    loss_func = torch.nn.CrossEntropyLoss()\n",
    "    loss = loss_func(y_pred, y.to(device))\n",
    "    loss.backward()\n",
    "\n",
    "    saliency = x.grad.abs().squeeze().data\n",
    "    return saliency"
   ]
  },
  {
   "cell_type": "code",
   "execution_count": 15,
   "id": "92ce22a3-d6cc-408e-b4c2-bf161a8f22ac",
   "metadata": {
    "tags": []
   },
   "outputs": [],
   "source": [
    "def show_saliency_maps(x, y, model):\n",
    "    x_org = x.squeeze().numpy()\n",
    "    # Compute saliency maps for images in X\n",
    "    saliency = compute_saliency_maps(x, y, model)\n",
    "\n",
    "    # Convert the saliency map from Torch Tensor to numpy array and show images\n",
    "    # and saliency maps together.\n",
    "    saliency = saliency.detach().cpu().numpy()\n",
    "    \n",
    "    num_pics = x_org.shape[0]\n",
    "    #for i in range(num_pics):\n",
    "        # You need to save as the correct fig names\n",
    "    #    plt.imsave('pic_'+ str(i), x_org[i], cmap=plt.cm.gray)\n",
    "    #    plt.imsave('saliency_'+ str(i), saliency[i], cmap=plt.cm.jet)\n",
    "    return saliency"
   ]
  },
  {
   "cell_type": "code",
   "execution_count": 24,
   "id": "356bec5a-3a91-44d6-8b3a-6dc9c42c13ac",
   "metadata": {
    "tags": []
   },
   "outputs": [],
   "source": [
    "saliency = compute_saliency_maps(x_train[0:10], x_label[0:10], model)"
   ]
  },
  {
   "cell_type": "code",
   "execution_count": 35,
   "id": "0ba0351f-8bc4-451e-931f-bb8f7e1a58b2",
   "metadata": {
    "tags": []
   },
   "outputs": [
    {
     "name": "stdout",
     "output_type": "stream",
     "text": [
      "[2.6088946e-03 1.8145187e-03 1.9454244e-03 1.1418359e-03 3.4049999e-03\n",
      " 4.8108306e-03 5.7076341e-03 4.1601406e-03 3.3582901e-03 6.8094036e-05\n",
      " 7.0381132e-03 2.7073704e-04 3.4913546e-03 2.3791196e-03 2.3192924e-03\n",
      " 9.3899725e-04 2.4070125e-03 6.8524419e-03 8.5218195e-03 3.6327494e-03\n",
      " 3.8063719e-03 2.4426787e-03 3.2573354e-03 1.5997717e-03 4.0188930e-03\n",
      " 3.9450260e-04 2.3427668e-03 1.6990833e-03 5.9417939e-06 6.5740999e-03\n",
      " 7.5514191e-03 9.7591486e-03 1.1225822e-02 3.8229886e-03 2.6936070e-03\n",
      " 5.7214103e-04 8.2387608e-03 4.3206527e-03 2.9889597e-03 2.8490573e-03\n",
      " 2.1394342e-03 7.3657464e-04 2.4057550e-03 4.2820731e-03 9.2168096e-03\n",
      " 3.6361805e-04 3.5704579e-03 1.9574203e-03]\n"
     ]
    }
   ],
   "source": [
    "print(saliency[0][0])"
   ]
  },
  {
   "cell_type": "code",
   "execution_count": 44,
   "id": "18401165-5b96-4266-b647-98a1f1e5ca0e",
   "metadata": {
    "tags": []
   },
   "outputs": [
    {
     "data": {
      "image/png": "[encoded data removed]",
      "text/plain": [
       "<Figure size 640x480 with 1 Axes>"
      ]
     },
     "metadata": {},
     "output_type": "display_data"
    },
    {
     "data": {
      "image/png": "[encoded data removed]",
      "text/plain": [
       "<Figure size 640x480 with 1 Axes>"
      ]
     },
     "metadata": {},
     "output_type": "display_data"
    }
   ],
   "source": [
    "plt.imshow(x_train[0][0].numpy(), cmap = plt.cm.gray)\n",
    "plt.show()\n",
    "plt.imshow(saliency[0], cmap = plt.cm.jet)\n",
    "plt.show()\n",
    "#print(saliency)"
   ]
  }
 ],
 "metadata": {
  "kernelspec": {
   "display_name": "Python 3 (ipykernel)",
   "language": "python",
   "name": "python3"
  },
  "language_info": {
   "codemirror_mode": {
    "name": "ipython",
    "version": 3
   },
   "file_extension": ".py",
   "mimetype": "text/x-python",
   "name": "python",
   "nbconvert_exporter": "python",
   "pygments_lexer": "ipython3",
   "version": "3.11.3"
  }
 },
 "nbformat": 4,
 "nbformat_minor": 5
}
